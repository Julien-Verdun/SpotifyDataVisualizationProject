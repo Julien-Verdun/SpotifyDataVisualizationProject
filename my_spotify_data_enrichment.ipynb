{
 "metadata": {
  "language_info": {
   "codemirror_mode": {
    "name": "ipython",
    "version": 3
   },
   "file_extension": ".py",
   "mimetype": "text/x-python",
   "name": "python",
   "nbconvert_exporter": "python",
   "pygments_lexer": "ipython3",
   "version": "3.7.9-final"
  },
  "orig_nbformat": 2,
  "kernelspec": {
   "name": "python3",
   "display_name": "Python 3.7.9 64-bit",
   "metadata": {
    "interpreter": {
     "hash": "c38df42a44b20c43d55ef93063a6a1526caabf3e59bc32fe365dbbb00d95769f"
    }
   }
  }
 },
 "nbformat": 4,
 "nbformat_minor": 2,
 "cells": [
  {
   "cell_type": "code",
   "execution_count": 1,
   "metadata": {},
   "outputs": [],
   "source": [
    "import json\n",
    "import pandas as pd\n",
    "import numpy as np"
   ]
  },
  {
   "cell_type": "code",
   "execution_count": 2,
   "metadata": {},
   "outputs": [
    {
     "output_type": "execute_result",
     "data": {
      "text/plain": [
       "                danceability energy loudness speechiness acousticness  \\\n",
       "Like I Do              0.635    0.9   -3.719      0.0377      0.00664   \n",
       "Comme dit maman        0.792  0.711   -6.243      0.0561        0.791   \n",
       "Salzburg               0.847  0.346  -11.243      0.0936      0.00339   \n",
       "Offshore                0.82  0.435   -9.157       0.303        0.724   \n",
       "Khapta                 0.811  0.692   -2.836       0.105      0.00937   \n",
       "\n",
       "                instrumentalness liveness valence    tempo duration_ms  \\\n",
       "Like I Do                 0.0145     0.37    0.15  127.978      202500   \n",
       "Comme dit maman                0    0.102     0.7  144.131      187106   \n",
       "Salzburg                   0.918   0.0704   0.404  126.009      436150   \n",
       "Offshore                       0    0.317    0.51  124.006      206747   \n",
       "Khapta                         0   0.0598   0.817  125.009      162907   \n",
       "\n",
       "                popularity                                 artist  \\\n",
       "Like I Do               68  [David Guetta, Martin Garrix, Brooks]   \n",
       "Comme dit maman         41              [Hayce Lemsi, Volts Face]   \n",
       "Salzburg                57                              [Worakls]   \n",
       "Offshore                48                 [Vald, Suikon Blaz AD]   \n",
       "Khapta                  62             [Heuss L'enfoiré, Sofiane]   \n",
       "\n",
       "                           album  \n",
       "Like I Do              Like I Do  \n",
       "Comme dit maman  Comme dit maman  \n",
       "Salzburg                Salzburg  \n",
       "Offshore                     XEU  \n",
       "Khapta                 En esprit  "
      ],
      "text/html": "<div>\n<style scoped>\n    .dataframe tbody tr th:only-of-type {\n        vertical-align: middle;\n    }\n\n    .dataframe tbody tr th {\n        vertical-align: top;\n    }\n\n    .dataframe thead th {\n        text-align: right;\n    }\n</style>\n<table border=\"1\" class=\"dataframe\">\n  <thead>\n    <tr style=\"text-align: right;\">\n      <th></th>\n      <th>danceability</th>\n      <th>energy</th>\n      <th>loudness</th>\n      <th>speechiness</th>\n      <th>acousticness</th>\n      <th>instrumentalness</th>\n      <th>liveness</th>\n      <th>valence</th>\n      <th>tempo</th>\n      <th>duration_ms</th>\n      <th>popularity</th>\n      <th>artist</th>\n      <th>album</th>\n    </tr>\n  </thead>\n  <tbody>\n    <tr>\n      <th>Like I Do</th>\n      <td>0.635</td>\n      <td>0.9</td>\n      <td>-3.719</td>\n      <td>0.0377</td>\n      <td>0.00664</td>\n      <td>0.0145</td>\n      <td>0.37</td>\n      <td>0.15</td>\n      <td>127.978</td>\n      <td>202500</td>\n      <td>68</td>\n      <td>[David Guetta, Martin Garrix, Brooks]</td>\n      <td>Like I Do</td>\n    </tr>\n    <tr>\n      <th>Comme dit maman</th>\n      <td>0.792</td>\n      <td>0.711</td>\n      <td>-6.243</td>\n      <td>0.0561</td>\n      <td>0.791</td>\n      <td>0</td>\n      <td>0.102</td>\n      <td>0.7</td>\n      <td>144.131</td>\n      <td>187106</td>\n      <td>41</td>\n      <td>[Hayce Lemsi, Volts Face]</td>\n      <td>Comme dit maman</td>\n    </tr>\n    <tr>\n      <th>Salzburg</th>\n      <td>0.847</td>\n      <td>0.346</td>\n      <td>-11.243</td>\n      <td>0.0936</td>\n      <td>0.00339</td>\n      <td>0.918</td>\n      <td>0.0704</td>\n      <td>0.404</td>\n      <td>126.009</td>\n      <td>436150</td>\n      <td>57</td>\n      <td>[Worakls]</td>\n      <td>Salzburg</td>\n    </tr>\n    <tr>\n      <th>Offshore</th>\n      <td>0.82</td>\n      <td>0.435</td>\n      <td>-9.157</td>\n      <td>0.303</td>\n      <td>0.724</td>\n      <td>0</td>\n      <td>0.317</td>\n      <td>0.51</td>\n      <td>124.006</td>\n      <td>206747</td>\n      <td>48</td>\n      <td>[Vald, Suikon Blaz AD]</td>\n      <td>XEU</td>\n    </tr>\n    <tr>\n      <th>Khapta</th>\n      <td>0.811</td>\n      <td>0.692</td>\n      <td>-2.836</td>\n      <td>0.105</td>\n      <td>0.00937</td>\n      <td>0</td>\n      <td>0.0598</td>\n      <td>0.817</td>\n      <td>125.009</td>\n      <td>162907</td>\n      <td>62</td>\n      <td>[Heuss L'enfoiré, Sofiane]</td>\n      <td>En esprit</td>\n    </tr>\n  </tbody>\n</table>\n</div>"
     },
     "metadata": {},
     "execution_count": 2
    }
   ],
   "source": [
    "folder = \"Julien\"\n",
    "track_data = pd.read_json(folder + '/track_data.json')\n",
    "track_data = track_data.loc[[\"danceability\",\"energy\",\"loudness\",\"speechiness\",\"acousticness\",\"instrumentalness\",\"liveness\",\"valence\", \"tempo\",\"duration_ms\",\"popularity\",\"artist\",\"album\"]].T #\"key\",\"mode\"\n",
    "track_data.head()"
   ]
  },
  {
   "cell_type": "code",
   "execution_count": 3,
   "metadata": {},
   "outputs": [
    {
     "output_type": "stream",
     "name": "stdout",
     "text": [
      "[[0.635 0.9 -3.719 ... 127.978 202500 68]\n [0.792 0.711 -6.243 ... 144.131 187106 41]\n [0.847 0.34600000000000003 -11.243 ... 126.009 436150 57]\n ...\n [0.487 0.398 -9.901 ... 149.367 157766 71]\n [0.873 0.719 -5.948 ... 93.281 307773 77]\n [0.6920000000000001 0.8180000000000001 -4.4 ... 96.05 241875 52]]\n"
     ]
    }
   ],
   "source": [
    "track_np = np.array(track_data.values[:,:-2])\n",
    "print(track_np)"
   ]
  },
  {
   "cell_type": "code",
   "execution_count": 6,
   "metadata": {},
   "outputs": [
    {
     "output_type": "stream",
     "name": "stdout",
     "text": [
      "[[0.62805763 0.90899796 0.87265411 ... 0.45445066 0.30207715 0.69387755]\n [0.80341785 0.71574642 0.79512854 ... 0.56242021 0.27505696 0.41836735]\n [0.86484977 0.34253579 0.64155174 ... 0.44128951 0.71218945 0.58163265]\n ...\n [0.46274992 0.39570552 0.68277175 ... 0.59741857 0.22355816 0.7244898 ]\n [0.89389032 0.72392638 0.80418958 ... 0.22252969 0.48685675 0.78571429]\n [0.69172344 0.82515337 0.85173695 ... 0.24103819 0.37118981 0.53061224]]\n"
     ]
    }
   ],
   "source": [
    "from sklearn.preprocessing import MinMaxScaler\n",
    "\n",
    "minMaxScaler = MinMaxScaler().fit(track_np)\n",
    "track_np = minMaxScaler.transform(track_np)\n",
    "\n",
    "print(track_np)"
   ]
  },
  {
   "cell_type": "code",
   "execution_count": 7,
   "metadata": {},
   "outputs": [
    {
     "output_type": "execute_result",
     "data": {
      "text/plain": [
       "                 danceability    energy  loudness  speechiness  acousticness  \\\n",
       "Like I Do            0.628058  0.908998  0.872654     0.016407      0.006668   \n",
       "Comme dit maman      0.803418  0.715746  0.795129     0.037970      0.797374   \n",
       "Salzburg             0.864850  0.342536  0.641552     0.081917      0.003392   \n",
       "Offshore             0.834692  0.433538  0.705624     0.327317      0.729832   \n",
       "Khapta               0.824640  0.696319  0.899776     0.095277      0.009420   \n",
       "\n",
       "                 instrumentalness  liveness   valence     tempo  duration_ms  \\\n",
       "Like I Do                0.014781  0.376635  0.139853  0.454451     0.302077   \n",
       "Comme dit maman          0.000000  0.084568  0.718191  0.562420     0.275057   \n",
       "Salzburg                 0.935780  0.050131  0.406940  0.441290     0.712189   \n",
       "Offshore                 0.000000  0.318875  0.518402  0.427901     0.309532   \n",
       "Khapta                   0.000000  0.038579  0.841220  0.434605     0.232582   \n",
       "\n",
       "                 popularity  \n",
       "Like I Do          0.693878  \n",
       "Comme dit maman    0.418367  \n",
       "Salzburg           0.581633  \n",
       "Offshore           0.489796  \n",
       "Khapta             0.632653  "
      ],
      "text/html": "<div>\n<style scoped>\n    .dataframe tbody tr th:only-of-type {\n        vertical-align: middle;\n    }\n\n    .dataframe tbody tr th {\n        vertical-align: top;\n    }\n\n    .dataframe thead th {\n        text-align: right;\n    }\n</style>\n<table border=\"1\" class=\"dataframe\">\n  <thead>\n    <tr style=\"text-align: right;\">\n      <th></th>\n      <th>danceability</th>\n      <th>energy</th>\n      <th>loudness</th>\n      <th>speechiness</th>\n      <th>acousticness</th>\n      <th>instrumentalness</th>\n      <th>liveness</th>\n      <th>valence</th>\n      <th>tempo</th>\n      <th>duration_ms</th>\n      <th>popularity</th>\n    </tr>\n  </thead>\n  <tbody>\n    <tr>\n      <th>Like I Do</th>\n      <td>0.628058</td>\n      <td>0.908998</td>\n      <td>0.872654</td>\n      <td>0.016407</td>\n      <td>0.006668</td>\n      <td>0.014781</td>\n      <td>0.376635</td>\n      <td>0.139853</td>\n      <td>0.454451</td>\n      <td>0.302077</td>\n      <td>0.693878</td>\n    </tr>\n    <tr>\n      <th>Comme dit maman</th>\n      <td>0.803418</td>\n      <td>0.715746</td>\n      <td>0.795129</td>\n      <td>0.037970</td>\n      <td>0.797374</td>\n      <td>0.000000</td>\n      <td>0.084568</td>\n      <td>0.718191</td>\n      <td>0.562420</td>\n      <td>0.275057</td>\n      <td>0.418367</td>\n    </tr>\n    <tr>\n      <th>Salzburg</th>\n      <td>0.864850</td>\n      <td>0.342536</td>\n      <td>0.641552</td>\n      <td>0.081917</td>\n      <td>0.003392</td>\n      <td>0.935780</td>\n      <td>0.050131</td>\n      <td>0.406940</td>\n      <td>0.441290</td>\n      <td>0.712189</td>\n      <td>0.581633</td>\n    </tr>\n    <tr>\n      <th>Offshore</th>\n      <td>0.834692</td>\n      <td>0.433538</td>\n      <td>0.705624</td>\n      <td>0.327317</td>\n      <td>0.729832</td>\n      <td>0.000000</td>\n      <td>0.318875</td>\n      <td>0.518402</td>\n      <td>0.427901</td>\n      <td>0.309532</td>\n      <td>0.489796</td>\n    </tr>\n    <tr>\n      <th>Khapta</th>\n      <td>0.824640</td>\n      <td>0.696319</td>\n      <td>0.899776</td>\n      <td>0.095277</td>\n      <td>0.009420</td>\n      <td>0.000000</td>\n      <td>0.038579</td>\n      <td>0.841220</td>\n      <td>0.434605</td>\n      <td>0.232582</td>\n      <td>0.632653</td>\n    </tr>\n  </tbody>\n</table>\n</div>"
     },
     "metadata": {},
     "execution_count": 7
    }
   ],
   "source": [
    "track_data_normalized = pd.DataFrame(track_np,columns=track_data.columns[:-2],index=track_data.index)\n",
    "track_data_normalized.head()"
   ]
  },
  {
   "cell_type": "code",
   "execution_count": 8,
   "metadata": {},
   "outputs": [
    {
     "output_type": "execute_result",
     "data": {
      "text/plain": [
       "                 danceability    energy  loudness  speechiness  acousticness  \\\n",
       "Like I Do            0.628058  0.908998  0.872654     0.016407      0.006668   \n",
       "Comme dit maman      0.803418  0.715746  0.795129     0.037970      0.797374   \n",
       "Salzburg             0.864850  0.342536  0.641552     0.081917      0.003392   \n",
       "Offshore             0.834692  0.433538  0.705624     0.327317      0.729832   \n",
       "Khapta               0.824640  0.696319  0.899776     0.095277      0.009420   \n",
       "\n",
       "                 instrumentalness  liveness   valence     tempo  duration_ms  \\\n",
       "Like I Do                0.014781  0.376635  0.139853  0.454451     0.302077   \n",
       "Comme dit maman          0.000000  0.084568  0.718191  0.562420     0.275057   \n",
       "Salzburg                 0.935780  0.050131  0.406940  0.441290     0.712189   \n",
       "Offshore                 0.000000  0.318875  0.518402  0.427901     0.309532   \n",
       "Khapta                   0.000000  0.038579  0.841220  0.434605     0.232582   \n",
       "\n",
       "                 popularity                                 artist  \\\n",
       "Like I Do          0.693878  [David Guetta, Martin Garrix, Brooks]   \n",
       "Comme dit maman    0.418367              [Hayce Lemsi, Volts Face]   \n",
       "Salzburg           0.581633                              [Worakls]   \n",
       "Offshore           0.489796                 [Vald, Suikon Blaz AD]   \n",
       "Khapta             0.632653             [Heuss L'enfoiré, Sofiane]   \n",
       "\n",
       "                           album  \n",
       "Like I Do              Like I Do  \n",
       "Comme dit maman  Comme dit maman  \n",
       "Salzburg                Salzburg  \n",
       "Offshore                     XEU  \n",
       "Khapta                 En esprit  "
      ],
      "text/html": "<div>\n<style scoped>\n    .dataframe tbody tr th:only-of-type {\n        vertical-align: middle;\n    }\n\n    .dataframe tbody tr th {\n        vertical-align: top;\n    }\n\n    .dataframe thead th {\n        text-align: right;\n    }\n</style>\n<table border=\"1\" class=\"dataframe\">\n  <thead>\n    <tr style=\"text-align: right;\">\n      <th></th>\n      <th>danceability</th>\n      <th>energy</th>\n      <th>loudness</th>\n      <th>speechiness</th>\n      <th>acousticness</th>\n      <th>instrumentalness</th>\n      <th>liveness</th>\n      <th>valence</th>\n      <th>tempo</th>\n      <th>duration_ms</th>\n      <th>popularity</th>\n      <th>artist</th>\n      <th>album</th>\n    </tr>\n  </thead>\n  <tbody>\n    <tr>\n      <th>Like I Do</th>\n      <td>0.628058</td>\n      <td>0.908998</td>\n      <td>0.872654</td>\n      <td>0.016407</td>\n      <td>0.006668</td>\n      <td>0.014781</td>\n      <td>0.376635</td>\n      <td>0.139853</td>\n      <td>0.454451</td>\n      <td>0.302077</td>\n      <td>0.693878</td>\n      <td>[David Guetta, Martin Garrix, Brooks]</td>\n      <td>Like I Do</td>\n    </tr>\n    <tr>\n      <th>Comme dit maman</th>\n      <td>0.803418</td>\n      <td>0.715746</td>\n      <td>0.795129</td>\n      <td>0.037970</td>\n      <td>0.797374</td>\n      <td>0.000000</td>\n      <td>0.084568</td>\n      <td>0.718191</td>\n      <td>0.562420</td>\n      <td>0.275057</td>\n      <td>0.418367</td>\n      <td>[Hayce Lemsi, Volts Face]</td>\n      <td>Comme dit maman</td>\n    </tr>\n    <tr>\n      <th>Salzburg</th>\n      <td>0.864850</td>\n      <td>0.342536</td>\n      <td>0.641552</td>\n      <td>0.081917</td>\n      <td>0.003392</td>\n      <td>0.935780</td>\n      <td>0.050131</td>\n      <td>0.406940</td>\n      <td>0.441290</td>\n      <td>0.712189</td>\n      <td>0.581633</td>\n      <td>[Worakls]</td>\n      <td>Salzburg</td>\n    </tr>\n    <tr>\n      <th>Offshore</th>\n      <td>0.834692</td>\n      <td>0.433538</td>\n      <td>0.705624</td>\n      <td>0.327317</td>\n      <td>0.729832</td>\n      <td>0.000000</td>\n      <td>0.318875</td>\n      <td>0.518402</td>\n      <td>0.427901</td>\n      <td>0.309532</td>\n      <td>0.489796</td>\n      <td>[Vald, Suikon Blaz AD]</td>\n      <td>XEU</td>\n    </tr>\n    <tr>\n      <th>Khapta</th>\n      <td>0.824640</td>\n      <td>0.696319</td>\n      <td>0.899776</td>\n      <td>0.095277</td>\n      <td>0.009420</td>\n      <td>0.000000</td>\n      <td>0.038579</td>\n      <td>0.841220</td>\n      <td>0.434605</td>\n      <td>0.232582</td>\n      <td>0.632653</td>\n      <td>[Heuss L'enfoiré, Sofiane]</td>\n      <td>En esprit</td>\n    </tr>\n  </tbody>\n</table>\n</div>"
     },
     "metadata": {},
     "execution_count": 8
    }
   ],
   "source": [
    "track_data_normalized[\"artist\"] = track_data[\"artist\"]\n",
    "track_data_normalized[\"album\"] = track_data[\"album\"]\n",
    "track_data_normalized.head()"
   ]
  },
  {
   "cell_type": "code",
   "execution_count": 9,
   "metadata": {},
   "outputs": [],
   "source": [
    "track_data_normalized.T.to_json(folder + '/track_data_normalized.json')"
   ]
  },
  {
   "cell_type": "code",
   "execution_count": 10,
   "metadata": {},
   "outputs": [],
   "source": [
    "# from sklearn.cluster import KMeans\n",
    "# n_clusters = 10\n",
    "# kmeans = KMeans(n_clusters=n_clusters, random_state=0).fit(track_np)\n",
    "\n",
    "# cluster_labels = kmeans.labels_"
   ]
  },
  {
   "cell_type": "code",
   "execution_count": 11,
   "metadata": {},
   "outputs": [],
   "source": [
    "# music_clustered = [[] for k in range(n_clusters)]\n",
    "# for i in range(track_data.shape[0]):\n",
    "#     music_clustered[cluster_labels[i]].append(track_data.index[i])"
   ]
  },
  {
   "cell_type": "code",
   "execution_count": 13,
   "metadata": {},
   "outputs": [],
   "source": [
    "# music_clustered"
   ]
  },
  {
   "cell_type": "code",
   "execution_count": 14,
   "metadata": {},
   "outputs": [
    {
     "output_type": "execute_result",
     "data": {
      "text/plain": [
       "danceability        0.674549\n",
       "energy              0.661444\n",
       "loudness            0.764635\n",
       "speechiness         0.120826\n",
       "acousticness        0.247908\n",
       "instrumentalness    0.098190\n",
       "liveness            0.180229\n",
       "valence             0.485158\n",
       "tempo               0.419224\n",
       "duration_ms         0.315497\n",
       "popularity          0.614082\n",
       "dtype: float64"
      ]
     },
     "metadata": {},
     "execution_count": 14
    }
   ],
   "source": [
    "# track_data_normalized.mean()"
   ]
  }
 ]
}